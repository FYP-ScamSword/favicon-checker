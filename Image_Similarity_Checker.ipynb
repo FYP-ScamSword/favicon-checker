{
  "cells": [
    {
      "cell_type": "code",
      "execution_count": null,
      "metadata": {
        "colab": {
          "base_uri": "https://localhost:8080/"
        },
        "id": "pwoUeQ7E4hjs",
        "outputId": "fd972eb1-2fbc-4be3-d0e2-48f8708859b7"
      },
      "outputs": [
        {
          "name": "stdout",
          "output_type": "stream",
          "text": [
            "Mounted at /content/drive/\n"
          ]
        }
      ],
      "source": [
        "import numpy as np\n",
        "from PIL import Image\n",
        "import tensorflow as tf\n",
        "from tensorflow.keras.preprocessing import image\n",
        "from tensorflow.keras.applications.vgg16 import VGG16, preprocess_input\n",
        "from google.colab import  drive\n",
        "drive.mount('/content/drive/')"
      ]
    },
    {
      "cell_type": "code",
      "execution_count": null,
      "metadata": {
        "colab": {
          "base_uri": "https://localhost:8080/"
        },
        "id": "YuJ3nxdcsu6X",
        "outputId": "578810cd-7815-415f-9f7d-ff5708f4830d"
      },
      "outputs": [
        {
          "name": "stdout",
          "output_type": "stream",
          "text": [
            "Downloading data from https://storage.googleapis.com/tensorflow/keras-applications/vgg16/vgg16_weights_tf_dim_ordering_tf_kernels_notop.h5\n",
            "58889256/58889256 [==============================] - 1s 0us/step\n"
          ]
        }
      ],
      "source": [
        "model = VGG16(weights='imagenet', include_top=False, input_shape=(32, 32, 3))"
      ]
    },
    {
      "cell_type": "code",
      "execution_count": null,
      "metadata": {
        "id": "gQw81k1poB_K"
      },
      "outputs": [],
      "source": [
        "def extract_features(img_path):\n",
        "    img = tf.keras.preprocessing.image.load_img(img_path, target_size=(32, 32))\n",
        "    x = tf.keras.preprocessing.image.img_to_array(img)\n",
        "    x = np.expand_dims(x, axis=0)\n",
        "    x = preprocess_input(x)\n",
        "    #x = x/255.0\n",
        "    features = model.predict(x)\n",
        "    features1 = features.flatten()\n",
        "    features2 = np.reshape(features, (features.shape[0], -1))\n",
        "    return features1, features2"
      ]
    },
    {
      "cell_type": "code",
      "execution_count": null,
      "metadata": {
        "colab": {
          "base_uri": "https://localhost:8080/"
        },
        "id": "7oMjYPnd8Shr",
        "outputId": "239c21cb-6a59-4a3b-a8ee-dcab0e74017f"
      },
      "outputs": [
        {
          "name": "stdout",
          "output_type": "stream",
          "text": [
            "/content/drive/My Drive/Final_Year_Project/ML/Favicons/\n",
            "['/content/drive/My Drive/Final_Year_Project/ML/Favicons/bos.png', '/content/drive/My Drive/Final_Year_Project/ML/Favicons/bnp.png', '/content/drive/My Drive/Final_Year_Project/ML/Favicons/citi.png', '/content/drive/My Drive/Final_Year_Project/ML/Favicons/dbs.png', '/content/drive/My Drive/Final_Year_Project/ML/Favicons/maybank.png', '/content/drive/My Drive/Final_Year_Project/ML/Favicons/sc.png', '/content/drive/My Drive/Final_Year_Project/ML/Favicons/amazon.png', '/content/drive/My Drive/Final_Year_Project/ML/Favicons/carousell.png', '/content/drive/My Drive/Final_Year_Project/ML/Favicons/castlery.png', '/content/drive/My Drive/Final_Year_Project/ML/Favicons/courts.png', '/content/drive/My Drive/Final_Year_Project/ML/Favicons/zalora.png', '/content/drive/My Drive/Final_Year_Project/ML/Favicons/youtube.png', '/content/drive/My Drive/Final_Year_Project/ML/Favicons/linkedin.png', '/content/drive/My Drive/Final_Year_Project/ML/Favicons/cimb.png', '/content/drive/My Drive/Final_Year_Project/ML/Favicons/hsbc.png', '/content/drive/My Drive/Final_Year_Project/ML/Favicons/anz.png', '/content/drive/My Drive/Final_Year_Project/ML/Favicons/bangkok-bank-sg.png', '/content/drive/My Drive/Final_Year_Project/ML/Favicons/hlf.png', '/content/drive/My Drive/Final_Year_Project/ML/Favicons/icici.png', '/content/drive/My Drive/Final_Year_Project/ML/Favicons/iob.png', '/content/drive/My Drive/Final_Year_Project/ML/Favicons/jpm.png', '/content/drive/My Drive/Final_Year_Project/ML/Favicons/ocbc.png', '/content/drive/My Drive/Final_Year_Project/ML/Favicons/rhb.png', '/content/drive/My Drive/Final_Year_Project/ML/Favicons/sbi.png', '/content/drive/My Drive/Final_Year_Project/ML/Favicons/uob.png', '/content/drive/My Drive/Final_Year_Project/ML/Favicons/qoo10.png', '/content/drive/My Drive/Final_Year_Project/ML/Favicons/love-bonito.png', '/content/drive/My Drive/Final_Year_Project/ML/Favicons/ebay.png', '/content/drive/My Drive/Final_Year_Project/ML/Favicons/lazada2.png', '/content/drive/My Drive/Final_Year_Project/ML/Favicons/sephora.png', '/content/drive/My Drive/Final_Year_Project/ML/Favicons/shopee.png', '/content/drive/My Drive/Final_Year_Project/ML/Favicons/snapchat.png', '/content/drive/My Drive/Final_Year_Project/ML/Favicons/insta.png', '/content/drive/My Drive/Final_Year_Project/ML/Favicons/facebook.png', '/content/drive/My Drive/Final_Year_Project/ML/Favicons/twitter.png', '/content/drive/My Drive/Final_Year_Project/ML/Favicons/tiktok.png']\n"
          ]
        }
      ],
      "source": [
        "#from resizeimage import resizeimage\n",
        "import sys\n",
        "import os\n",
        "import csv\n",
        "import matplotlib.pyplot as plt\n",
        "\n",
        "def createFileList(myDir, format='.png'):\n",
        "    fileList = []\n",
        "    print(myDir)\n",
        "    #labels = []\n",
        "    names = []\n",
        "    #keywords = {\"B\" : \"0\",\"E\": \"1\",\"G\": \"2\"} # keys and values to be changed as needed\n",
        "    for root, dirs, files in os.walk(myDir, topdown=True):\n",
        "        for name in files:\n",
        "            fullName = os.path.join(root, name)\n",
        "            fileList.append(fullName)\n",
        "            names.append(name)\n",
        "    return fileList, names\n",
        "\n",
        "# load the original image\n",
        "myFileList, names  = createFileList('/content/drive/My Drive/Final_Year_Project/ML/Favicons/')\n",
        "print(myFileList)"
      ]
    },
    {
      "cell_type": "code",
      "execution_count": null,
      "metadata": {
        "colab": {
          "base_uri": "https://localhost:8080/"
        },
        "id": "pkKajfo6yMlF",
        "outputId": "640713fa-38f0-451e-b7e7-f50aa9b7b0d3"
      },
      "outputs": [
        {
          "name": "stderr",
          "output_type": "stream",
          "text": [
            "/usr/local/lib/python3.9/dist-packages/PIL/Image.py:975: UserWarning: Palette images with Transparency expressed in bytes should be converted to RGBA images\n",
            "  warnings.warn(\n"
          ]
        },
        {
          "name": "stdout",
          "output_type": "stream",
          "text": [
            "1/1 [==============================] - 0s 477ms/step\n",
            "1/1 [==============================] - 0s 46ms/step\n",
            "1/1 [==============================] - 0s 42ms/step\n",
            "1/1 [==============================] - 0s 43ms/step\n",
            "1/1 [==============================] - 0s 48ms/step\n",
            "1/1 [==============================] - 0s 53ms/step\n",
            "1/1 [==============================] - 0s 47ms/step\n",
            "1/1 [==============================] - 0s 47ms/step\n",
            "1/1 [==============================] - 0s 45ms/step\n",
            "1/1 [==============================] - 0s 46ms/step\n",
            "1/1 [==============================] - 0s 47ms/step\n",
            "1/1 [==============================] - 0s 55ms/step\n",
            "1/1 [==============================] - 0s 48ms/step\n",
            "1/1 [==============================] - 0s 48ms/step\n",
            "1/1 [==============================] - 0s 49ms/step\n",
            "1/1 [==============================] - 0s 47ms/step\n",
            "1/1 [==============================] - 0s 40ms/step\n",
            "1/1 [==============================] - 0s 45ms/step\n",
            "1/1 [==============================] - 0s 50ms/step\n",
            "1/1 [==============================] - 0s 47ms/step\n",
            "1/1 [==============================] - 0s 51ms/step\n",
            "1/1 [==============================] - 0s 60ms/step\n",
            "1/1 [==============================] - 0s 46ms/step\n",
            "1/1 [==============================] - 0s 38ms/step\n",
            "1/1 [==============================] - 0s 37ms/step\n",
            "1/1 [==============================] - 0s 66ms/step\n",
            "1/1 [==============================] - 0s 57ms/step\n",
            "1/1 [==============================] - 0s 56ms/step\n",
            "1/1 [==============================] - 0s 70ms/step\n",
            "1/1 [==============================] - 0s 60ms/step\n",
            "1/1 [==============================] - 0s 115ms/step\n",
            "1/1 [==============================] - 0s 184ms/step\n",
            "1/1 [==============================] - 0s 132ms/step\n",
            "1/1 [==============================] - 0s 78ms/step\n",
            "1/1 [==============================] - 0s 69ms/step\n",
            "1/1 [==============================] - 0s 71ms/step\n"
          ]
        }
      ],
      "source": [
        "images = []\n",
        "features2 = []\n",
        "for file in myFileList:\n",
        "    feature1, feature2 = extract_features(file)\n",
        "    images.append(feature1)\n",
        "    features2.append(feature2)\n",
        "\n",
        "#print(images[0])"
      ]
    },
    {
      "cell_type": "code",
      "execution_count": null,
      "metadata": {
        "colab": {
          "base_uri": "https://localhost:8080/",
          "height": 283
        },
        "id": "qF1n25HWmHYk",
        "outputId": "c14044b5-36cb-4985-bd78-03f21242de6a"
      },
      "outputs": [
        {
          "data": {
            "text/plain": [
              "<matplotlib.image.AxesImage at 0x7f91a4f27970>"
            ]
          },
          "execution_count": 15,
          "metadata": {},
          "output_type": "execute_result"
        },
        {
          "data": {
            "image/png": "[encoded data removed]",
            "text/plain": [
              "<Figure size 432x288 with 1 Axes>"
            ]
          },
          "metadata": {
            "needs_background": "light"
          },
          "output_type": "display_data"
        }
      ],
      "source": [
        "import matplotlib.pyplot as plt\n",
        "img = tf.keras.preprocessing.image.load_img(myFileList[20])\n",
        "plt.imshow(img)"
      ]
    },
    {
      "cell_type": "code",
      "execution_count": null,
      "metadata": {
        "id": "6Dv2D6Kt0l-Y"
      },
      "outputs": [],
      "source": [
        "#print(len(images[0][0]))\n",
        "#print(type(images[0]))"
      ]
    },
    {
      "cell_type": "code",
      "execution_count": null,
      "metadata": {
        "id": "d-mzW2cP442F"
      },
      "outputs": [],
      "source": [
        "from scipy.spatial.distance import cosine\n",
        "\n",
        "metric = 'cosine'"
      ]
    },
    {
      "cell_type": "code",
      "execution_count": null,
      "metadata": {
        "colab": {
          "base_uri": "https://localhost:8080/"
        },
        "id": "BekS4vjf5Afn",
        "outputId": "33175d26-6c5d-49e5-eb1f-f775b7fc110a"
      },
      "outputs": [
        {
          "name": "stdout",
          "output_type": "stream",
          "text": [
            "0\n"
          ]
        }
      ],
      "source": [
        "distances = []\n",
        "for image in images:\n",
        "  distance = cosine(images[0], image)\n",
        "  distances.append(distance)\n",
        "#dc = distance.cdist([images[0]], [images[0]], metric)[0]\n",
        "#print(dc)\n",
        "#print(\"the distance between bos and bos is {}\".format(distance))\n",
        "for distance in distances:\n",
        "  if distance == 0:\n",
        "    print(distances.index(distance))"
      ]
    },
    {
      "cell_type": "code",
      "execution_count": null,
      "metadata": {
        "id": "mwMIY0g27WyQ"
      },
      "outputs": [],
      "source": [
        "from sklearn.neighbors import NearestNeighbors\n",
        "\n",
        "def find_similar_images(query_img_features, features2, k=5):\n",
        "\t# Extract features from the query image\n",
        "\t#query_features = extract_features(img_path)\n",
        "\n",
        "\t# Extract features from the images in the dataset\n",
        "  dataset_features = features2\n",
        "  dataset_features = np.vstack(dataset_features)\n",
        "\t\n",
        "\t# Find the k most similar images using the nearest neighbors algorithm\n",
        "  neighbors = NearestNeighbors(n_neighbors=k, metric='cosine')\n",
        "  neighbors.fit(dataset_features)\n",
        "  distances, indices = neighbors.kneighbors(query_img_features)\n",
        "\t\n",
        "  # Return the filenames of the most similar images\n",
        "  filenames = []\n",
        "  for i in indices[0]:\n",
        "    filename = myFileList[i]\n",
        "    filenames.append(filename)\n",
        "  return filenames"
      ]
    },
    {
      "cell_type": "code",
      "execution_count": null,
      "metadata": {
        "colab": {
          "base_uri": "https://localhost:8080/",
          "height": 304
        },
        "id": "osfovbUN7bh6",
        "outputId": "41f2aaa6-6459-475a-dbc6-a849c22dd1a4"
      },
      "outputs": [
        {
          "data": {
            "text/plain": [
              "<matplotlib.image.AxesImage at 0x7f91a4da5730>"
            ]
          },
          "execution_count": 16,
          "metadata": {},
          "output_type": "execute_result"
        },
        {
          "data": {
            "text/plain": [
              "<Figure size 432x288 with 0 Axes>"
            ]
          },
          "metadata": {},
          "output_type": "display_data"
        },
        {
          "data": {
            "image/png": "[encoded data removed]",
            "text/plain": [
              "<Figure size 432x288 with 5 Axes>"
            ]
          },
          "metadata": {
            "needs_background": "light"
          },
          "output_type": "display_data"
        }
      ],
      "source": [
        "#query_image = 'query_image.jpg'\n",
        "#dataset_path = 'dataset'\n",
        "similar_images = find_similar_images(features2[20], features2, k=5)\n",
        "#for image in similar_images:\n",
        "result = []\n",
        "for i in similar_images:\n",
        "  img = tf.keras.preprocessing.image.load_img(i)\n",
        "  result.append(img)\n",
        "#img = tf.keras.preprocessing.image.load_img(similar_images[0])\n",
        "#for i in result:\n",
        " # plt.imshow(i)\n",
        "\n",
        "plt.figure()\n",
        "\n",
        "#subplot(r,c) provide the no. of rows and columns\n",
        "f, axarr = plt.subplots(5,1) \n",
        "\n",
        "# use the created array to output your multiple images. In this case I have stacked 4 images vertically\n",
        "axarr[0].imshow(result[0])\n",
        "axarr[1].imshow(result[1])\n",
        "axarr[2].imshow(result[2])\n",
        "axarr[3].imshow(result[3])\n",
        "axarr[4].imshow(result[4])\n",
        "\n"
      ]
    }
  ],
  "metadata": {
    "colab": {
      "provenance": []
    },
    "kernelspec": {
      "display_name": "Python 3",
      "name": "python3"
    },
    "language_info": {
      "name": "python"
    }
  },
  "nbformat": 4,
  "nbformat_minor": 0
}
